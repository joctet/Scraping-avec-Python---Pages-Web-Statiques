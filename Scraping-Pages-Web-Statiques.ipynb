{
 "cells": [
  {
   "cell_type": "markdown",
   "id": "f5505af6",
   "metadata": {},
   "source": [
    "# Scraping de données STATIQUES"
   ]
  },
  {
   "cell_type": "code",
   "execution_count": 2,
   "id": "0c4986b1",
   "metadata": {},
   "outputs": [],
   "source": [
    "url = \"https://www.journaldesfemmes.fr/prenoms/classement/prenoms/les-plus-donnes\""
   ]
  },
  {
   "cell_type": "code",
   "execution_count": 3,
   "id": "42481a93",
   "metadata": {},
   "outputs": [],
   "source": [
    "from bs4 import BeautifulSoup\n",
    "import requests\n",
    "import pandas as pd"
   ]
  },
  {
   "cell_type": "code",
   "execution_count": 4,
   "id": "f986c106",
   "metadata": {},
   "outputs": [],
   "source": [
    "r = requests.get(url)\n",
    "soup = BeautifulSoup(r.text, 'lxml')"
   ]
  },
  {
   "cell_type": "code",
   "execution_count": 5,
   "id": "8f7d6e78",
   "metadata": {},
   "outputs": [
    {
     "name": "stdout",
     "output_type": "stream",
     "text": [
      "<!--Akamai-ESI:PAGE:setreftime=1624062527/-->\n",
      "<!DOCTYPE html>\n",
      "<!--[if lt IE 7 ]> <html lang=\"fr\" class=\"no-js ie6 lt-ie9 lt-ie8 lt-ie7 oldie\"> <![endif]-->\n",
      "<!--[if IE 7 ]>    <html lang=\"fr\" class=\"no-js ie7 lt-ie9 lt-ie8 oldie\"> <![endif]-->\n",
      "<!--[if IE 8 ]>    <html lang=\"fr\" class=\"no-js ie8 lt-ie9 oldie\"> <![endif]-->\n",
      "<!--[if IE 9 ]>    <html lang=\"fr\" class=\"no-js ie9\"> <![endif]-->\n",
      "<!--[if (gt IE 9)|!(IE)]><!-->\n",
      "<html class=\"no-js\" lang=\"fr\">\n",
      " <!--<![endif]-->\n",
      " <head prefix=\"og: http://ogp.me/ns# fb: http://ogp.me/ns/fb# journaldesfemmes: http://ogp.me/ns/fb/journaldesfemmes#\">\n",
      "  <script type=\"text/javascript\">\n",
      "   var _sf_startpt=(new Date()).getTime()\n",
      "  </script>\n",
      "  <meta charset=\"utf-8\"/>\n",
      "  <meta content=\"IE=edge,chrome=1\" http-equiv=\"X-UA-Compatible\"/>\n",
      "  <meta content=\"always\" name=\"referrer\"/>\n",
      "  <meta content=\"width=device-width, initial-scale=1.0\" name=\"viewport\"/>\n",
      "  <title>\n",
      "   Prénoms les plus donnés en France\n",
      "  </title>\n",
      "  <script>\n",
      "   var dataLayer = [{\"appConfig\":{\"subContai\n"
     ]
    }
   ],
   "source": [
    "print(soup.prettify()[:1000])"
   ]
  },
  {
   "cell_type": "markdown",
   "id": "f2783f7e",
   "metadata": {
    "scrolled": false
   },
   "source": [
    "Puis on recherche toutes les valeurs que l'on va rentrer dans notre tableau à commencer par les noms de colonnes :"
   ]
  },
  {
   "cell_type": "code",
   "execution_count": 6,
   "id": "ce0219af",
   "metadata": {
    "scrolled": false
   },
   "outputs": [
    {
     "data": {
      "text/plain": [
       "[<th class=\"odGradient\">Rang</th>,\n",
       " <th class=\"odGradient\">Prénom</th>,\n",
       " <th class=\"odGradient\">Naissances en 2019</th>]"
      ]
     },
     "execution_count": 6,
     "metadata": {},
     "output_type": "execute_result"
    }
   ],
   "source": [
    "soup.find_all(\"th\")"
   ]
  },
  {
   "cell_type": "markdown",
   "id": "bc681ee4",
   "metadata": {},
   "source": [
    "On liste les noms de colonnes du tableau :"
   ]
  },
  {
   "cell_type": "code",
   "execution_count": 7,
   "id": "30b9d991",
   "metadata": {},
   "outputs": [],
   "source": [
    "columns_names = []\n",
    "for column_name in soup.find_all(\"th\"):\n",
    "    columns_names.append(column_name.text)"
   ]
  },
  {
   "cell_type": "code",
   "execution_count": 8,
   "id": "ce3ad021",
   "metadata": {},
   "outputs": [],
   "source": [
    "df = pd.DataFrame(columns = columns_names)"
   ]
  },
  {
   "cell_type": "code",
   "execution_count": 9,
   "id": "eb619756",
   "metadata": {},
   "outputs": [
    {
     "data": {
      "text/html": [
       "<div>\n",
       "<style scoped>\n",
       "    .dataframe tbody tr th:only-of-type {\n",
       "        vertical-align: middle;\n",
       "    }\n",
       "\n",
       "    .dataframe tbody tr th {\n",
       "        vertical-align: top;\n",
       "    }\n",
       "\n",
       "    .dataframe thead th {\n",
       "        text-align: right;\n",
       "    }\n",
       "</style>\n",
       "<table border=\"1\" class=\"dataframe\">\n",
       "  <thead>\n",
       "    <tr style=\"text-align: right;\">\n",
       "      <th></th>\n",
       "      <th>Rang</th>\n",
       "      <th>Prénom</th>\n",
       "      <th>Naissances en 2019</th>\n",
       "    </tr>\n",
       "  </thead>\n",
       "  <tbody>\n",
       "  </tbody>\n",
       "</table>\n",
       "</div>"
      ],
      "text/plain": [
       "Empty DataFrame\n",
       "Columns: [Rang, Prénom, Naissances en 2019]\n",
       "Index: []"
      ]
     },
     "execution_count": 9,
     "metadata": {},
     "output_type": "execute_result"
    }
   ],
   "source": [
    "df"
   ]
  },
  {
   "cell_type": "markdown",
   "id": "708ca9cf",
   "metadata": {},
   "source": [
    "## 1 : Récupérer le tableau de la première page"
   ]
  },
  {
   "cell_type": "code",
   "execution_count": 10,
   "id": "65d89c48",
   "metadata": {},
   "outputs": [],
   "source": [
    "for i in soup.find_all(\"tr\")[1:]:\n",
    "    \n",
    "    # On cherche le rang du prénom\n",
    "    rank = i.find_all(\"td\")[0].text\n",
    "    # On cherche le prénom ....\n",
    "    name = i.find_all(\"td\")[1].text\n",
    "    occurence = i.find_all(\"td\")[2].text\n",
    "    # La ième occurence\n",
    "    df = df.append({'Rang': rank, 'Prénom': name, 'Naissances en 2019': occurence}, ignore_index=True)"
   ]
  },
  {
   "cell_type": "code",
   "execution_count": 11,
   "id": "b2f001f8",
   "metadata": {},
   "outputs": [
    {
     "name": "stdout",
     "output_type": "stream",
     "text": [
      "  Rang   Prénom Naissances en 2019\n",
      "0    1  Gabriel   5 010 naissances\n",
      "1    2      Léo   4 885 naissances\n",
      "2    3  Raphaël   4 661 naissances\n",
      "3    4   Arthur   4 005 naissances\n",
      "4    5    Louis   3 956 naissances\n"
     ]
    }
   ],
   "source": [
    "print(df.head())"
   ]
  },
  {
   "cell_type": "markdown",
   "id": "3a9e9449",
   "metadata": {},
   "source": [
    "## 2 : Automatiser la récupération du tableau pour chaque page"
   ]
  },
  {
   "cell_type": "code",
   "execution_count": 12,
   "id": "75b60474",
   "metadata": {},
   "outputs": [],
   "source": [
    "url = \"https://www.journaldesfemmes.fr/prenoms/classement/prenoms/les-plus-donnes?page=\"\n",
    "df = pd.DataFrame(columns = columns_names)"
   ]
  },
  {
   "cell_type": "code",
   "execution_count": 13,
   "id": "e81d55fe",
   "metadata": {},
   "outputs": [
    {
     "name": "stdout",
     "output_type": "stream",
     "text": [
      "Nous allons scraper cette page web : https://www.journaldesfemmes.fr/prenoms/classement/prenoms/les-plus-donnes?page=1\n",
      "Nous allons scraper cette page web : https://www.journaldesfemmes.fr/prenoms/classement/prenoms/les-plus-donnes?page=2\n",
      "Nous allons scraper cette page web : https://www.journaldesfemmes.fr/prenoms/classement/prenoms/les-plus-donnes?page=3\n",
      "Nous allons scraper cette page web : https://www.journaldesfemmes.fr/prenoms/classement/prenoms/les-plus-donnes?page=4\n",
      "Nous allons scraper cette page web : https://www.journaldesfemmes.fr/prenoms/classement/prenoms/les-plus-donnes?page=5\n",
      "Nous allons scraper cette page web : https://www.journaldesfemmes.fr/prenoms/classement/prenoms/les-plus-donnes?page=6\n",
      "Nous allons scraper cette page web : https://www.journaldesfemmes.fr/prenoms/classement/prenoms/les-plus-donnes?page=7\n",
      "Nous allons scraper cette page web : https://www.journaldesfemmes.fr/prenoms/classement/prenoms/les-plus-donnes?page=8\n",
      "Nous allons scraper cette page web : https://www.journaldesfemmes.fr/prenoms/classement/prenoms/les-plus-donnes?page=9\n",
      "Nous allons scraper cette page web : https://www.journaldesfemmes.fr/prenoms/classement/prenoms/les-plus-donnes?page=10\n",
      "Nous allons scraper cette page web : https://www.journaldesfemmes.fr/prenoms/classement/prenoms/les-plus-donnes?page=11\n",
      "Nous allons scraper cette page web : https://www.journaldesfemmes.fr/prenoms/classement/prenoms/les-plus-donnes?page=12\n",
      "Nous allons scraper cette page web : https://www.journaldesfemmes.fr/prenoms/classement/prenoms/les-plus-donnes?page=13\n",
      "Nous allons scraper cette page web : https://www.journaldesfemmes.fr/prenoms/classement/prenoms/les-plus-donnes?page=14\n",
      "Nous allons scraper cette page web : https://www.journaldesfemmes.fr/prenoms/classement/prenoms/les-plus-donnes?page=15\n",
      "Nous allons scraper cette page web : https://www.journaldesfemmes.fr/prenoms/classement/prenoms/les-plus-donnes?page=16\n",
      "Nous allons scraper cette page web : https://www.journaldesfemmes.fr/prenoms/classement/prenoms/les-plus-donnes?page=17\n",
      "Nous allons scraper cette page web : https://www.journaldesfemmes.fr/prenoms/classement/prenoms/les-plus-donnes?page=18\n",
      "Nous allons scraper cette page web : https://www.journaldesfemmes.fr/prenoms/classement/prenoms/les-plus-donnes?page=19\n",
      "Nous allons scraper cette page web : https://www.journaldesfemmes.fr/prenoms/classement/prenoms/les-plus-donnes?page=20\n",
      "Nous allons scraper cette page web : https://www.journaldesfemmes.fr/prenoms/classement/prenoms/les-plus-donnes?page=21\n",
      "Nous allons scraper cette page web : https://www.journaldesfemmes.fr/prenoms/classement/prenoms/les-plus-donnes?page=22\n"
     ]
    }
   ],
   "source": [
    "numero_page = 1\n",
    "prenom_0 = \"Prénom par défault\"\n",
    "prenom = \"\"\n",
    "\n",
    "while prenom_0 != prenom :\n",
    "    prenom = prenom_0\n",
    "    print(\"Nous allons scraper cette page web : \" + url + str(numero_page))\n",
    "\n",
    "    try :\n",
    "        r = requests.get(url + str(numero_page))\n",
    "        soup = BeautifulSoup(r.text, 'lxml')\n",
    "        for i in soup.find_all(\"tr\")[1:]:\n",
    "            rang = i.find_all(\"td\")[0].text\n",
    "            prenom = i.find_all(\"td\")[1].text\n",
    "            occurence = i.find_all(\"td\")[2].text\n",
    "\n",
    "            df = df.append({'Rang': rang, 'Prénom': prenom, 'Naissances en 2019': occurence}, ignore_index=True)\n",
    "            \n",
    "        numero_page += 1\n",
    "        \n",
    "    except :\n",
    "        print(\"Erreur lors du scraping\")\n",
    "        break"
   ]
  },
  {
   "cell_type": "code",
   "execution_count": 14,
   "id": "98c9789f",
   "metadata": {},
   "outputs": [
    {
     "data": {
      "text/html": [
       "<div>\n",
       "<style scoped>\n",
       "    .dataframe tbody tr th:only-of-type {\n",
       "        vertical-align: middle;\n",
       "    }\n",
       "\n",
       "    .dataframe tbody tr th {\n",
       "        vertical-align: top;\n",
       "    }\n",
       "\n",
       "    .dataframe thead th {\n",
       "        text-align: right;\n",
       "    }\n",
       "</style>\n",
       "<table border=\"1\" class=\"dataframe\">\n",
       "  <thead>\n",
       "    <tr style=\"text-align: right;\">\n",
       "      <th></th>\n",
       "      <th>Rang</th>\n",
       "      <th>Prénom</th>\n",
       "      <th>Naissances en 2019</th>\n",
       "    </tr>\n",
       "  </thead>\n",
       "  <tbody>\n",
       "    <tr>\n",
       "      <th>0</th>\n",
       "      <td>1</td>\n",
       "      <td>Gabriel</td>\n",
       "      <td>5 010 naissances</td>\n",
       "    </tr>\n",
       "    <tr>\n",
       "      <th>1</th>\n",
       "      <td>2</td>\n",
       "      <td>Léo</td>\n",
       "      <td>4 885 naissances</td>\n",
       "    </tr>\n",
       "    <tr>\n",
       "      <th>2</th>\n",
       "      <td>3</td>\n",
       "      <td>Raphaël</td>\n",
       "      <td>4 661 naissances</td>\n",
       "    </tr>\n",
       "    <tr>\n",
       "      <th>3</th>\n",
       "      <td>4</td>\n",
       "      <td>Arthur</td>\n",
       "      <td>4 005 naissances</td>\n",
       "    </tr>\n",
       "    <tr>\n",
       "      <th>4</th>\n",
       "      <td>5</td>\n",
       "      <td>Louis</td>\n",
       "      <td>3 956 naissances</td>\n",
       "    </tr>\n",
       "    <tr>\n",
       "      <th>...</th>\n",
       "      <td>...</td>\n",
       "      <td>...</td>\n",
       "      <td>...</td>\n",
       "    </tr>\n",
       "    <tr>\n",
       "      <th>998</th>\n",
       "      <td>999</td>\n",
       "      <td>François</td>\n",
       "      <td>107 naissances</td>\n",
       "    </tr>\n",
       "    <tr>\n",
       "      <th>999</th>\n",
       "      <td>1 000</td>\n",
       "      <td>Aymeric</td>\n",
       "      <td>107 naissances</td>\n",
       "    </tr>\n",
       "    <tr>\n",
       "      <th>1000</th>\n",
       "      <td>1 001</td>\n",
       "      <td>Iliana</td>\n",
       "      <td>107 naissances</td>\n",
       "    </tr>\n",
       "    <tr>\n",
       "      <th>1001</th>\n",
       "      <td>1 002</td>\n",
       "      <td>Inayah</td>\n",
       "      <td>107 naissances</td>\n",
       "    </tr>\n",
       "    <tr>\n",
       "      <th>1002</th>\n",
       "      <td>1 003</td>\n",
       "      <td>Jérémy</td>\n",
       "      <td>107 naissances</td>\n",
       "    </tr>\n",
       "  </tbody>\n",
       "</table>\n",
       "<p>1003 rows × 3 columns</p>\n",
       "</div>"
      ],
      "text/plain": [
       "       Rang    Prénom Naissances en 2019\n",
       "0         1   Gabriel   5 010 naissances\n",
       "1         2       Léo   4 885 naissances\n",
       "2         3   Raphaël   4 661 naissances\n",
       "3         4    Arthur   4 005 naissances\n",
       "4         5     Louis   3 956 naissances\n",
       "...     ...       ...                ...\n",
       "998     999  François     107 naissances\n",
       "999   1 000   Aymeric     107 naissances\n",
       "1000  1 001    Iliana     107 naissances\n",
       "1001  1 002    Inayah     107 naissances\n",
       "1002  1 003    Jérémy     107 naissances\n",
       "\n",
       "[1003 rows x 3 columns]"
      ]
     },
     "execution_count": 14,
     "metadata": {},
     "output_type": "execute_result"
    }
   ],
   "source": [
    "df"
   ]
  },
  {
   "cell_type": "code",
   "execution_count": null,
   "id": "8aa388d7",
   "metadata": {},
   "outputs": [],
   "source": []
  }
 ],
 "metadata": {
  "kernelspec": {
   "display_name": "Python 3",
   "language": "python",
   "name": "python3"
  },
  "language_info": {
   "codemirror_mode": {
    "name": "ipython",
    "version": 3
   },
   "file_extension": ".py",
   "mimetype": "text/x-python",
   "name": "python",
   "nbconvert_exporter": "python",
   "pygments_lexer": "ipython3",
   "version": "3.9.4"
  },
  "varInspector": {
   "cols": {
    "lenName": 16,
    "lenType": 16,
    "lenVar": 40
   },
   "kernels_config": {
    "python": {
     "delete_cmd_postfix": "",
     "delete_cmd_prefix": "del ",
     "library": "var_list.py",
     "varRefreshCmd": "print(var_dic_list())"
    },
    "r": {
     "delete_cmd_postfix": ") ",
     "delete_cmd_prefix": "rm(",
     "library": "var_list.r",
     "varRefreshCmd": "cat(var_dic_list()) "
    }
   },
   "types_to_exclude": [
    "module",
    "function",
    "builtin_function_or_method",
    "instance",
    "_Feature"
   ],
   "window_display": false
  }
 },
 "nbformat": 4,
 "nbformat_minor": 5
}
